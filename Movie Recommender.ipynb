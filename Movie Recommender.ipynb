{
 "cells": [
  {
   "cell_type": "code",
   "execution_count": 1,
   "id": "3b574a6c-39e9-4f22-a6a4-78e21dd4bb79",
   "metadata": {},
   "outputs": [],
   "source": [
    "import pandas as pd\n",
    "import warnings\n",
    "warnings.filterwarnings('ignore')\n",
    "\n",
    "def movie_recommend(movie_selected = 'Star Wars (1977)'):\n",
    "    \n",
    "    #Read The Files\n",
    "    cols=['user_id','movie_id','rating','ts']\n",
    "    item_cols=['movie_id','title']+ list(range(22))\n",
    "    df= pd.read_csv('u.data',sep='\\t', names=cols ).drop('ts',axis=1)\n",
    "    df1=pd.read_csv('u.item', sep='|', encoding='ISO-8859-1', names=item_cols)[['movie_id','title']]\n",
    "    \n",
    "    #Merge The Dataframes\n",
    "    movie= pd.merge(df,df1, on='movie_id')\n",
    "    \n",
    "    #Create The Pivot Table\n",
    "    movie_pivot = movie.pivot_table(index='user_id',columns = 'title',values='rating')\n",
    "    \n",
    "    #Find Similarities for Selected Movie\n",
    "    corrs = movie_pivot.corrwith(movie_pivot[movie_selected])\n",
    "    corrs_df=pd.DataFrame(corrs,columns=['correlation'])\n",
    "    corrs_df['rating']=movie.groupby('title')['rating'].mean()\n",
    "    corrs_df['count']=movie['title'].value_counts()\n",
    "    \n",
    "    #Find Top 2-3 Recommendations\n",
    "    top_recom = list(corrs_df[corrs_df['count']>50].sort_values(by='correlation',ascending=False).head(3).index)\n",
    "    top_recom.remove(movie_selected)\n",
    "    \n",
    "    return top_recom"
   ]
  },
  {
   "cell_type": "code",
   "execution_count": 3,
   "id": "9d06a43c-7b9a-4af9-816c-e8b48c348dc5",
   "metadata": {},
   "outputs": [
    {
     "data": {
      "text/plain": [
       "['Tin Men (1987)', 'Nell (1994)']"
      ]
     },
     "execution_count": 3,
     "metadata": {},
     "output_type": "execute_result"
    }
   ],
   "source": [
    "movie_recommend('Contact (1997)')"
   ]
  },
  {
   "cell_type": "code",
   "execution_count": null,
   "id": "3cc4541e-f22b-44d3-b6da-cc84168d183a",
   "metadata": {},
   "outputs": [],
   "source": []
  }
 ],
 "metadata": {
  "kernelspec": {
   "display_name": "Python 3 (ipykernel)",
   "language": "python",
   "name": "python3"
  },
  "language_info": {
   "codemirror_mode": {
    "name": "ipython",
    "version": 3
   },
   "file_extension": ".py",
   "mimetype": "text/x-python",
   "name": "python",
   "nbconvert_exporter": "python",
   "pygments_lexer": "ipython3",
   "version": "3.9.12"
  }
 },
 "nbformat": 4,
 "nbformat_minor": 5
}
